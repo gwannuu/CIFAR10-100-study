{
 "cells": [
  {
   "cell_type": "code",
   "execution_count": 197,
   "metadata": {},
   "outputs": [],
   "source": [
    "import matplotlib.pyplot as plt\n",
    "import seaborn as sns\n",
    "import pandas as pd\n",
    "\n",
    "import torch\n",
    "import torch.nn as nn\n",
    "from torch.optim import Adam, SGD\n",
    "import torch.optim.lr_scheduler as scheduler\n",
    "from torch.utils.data import random_split,DataLoader\n",
    "\n",
    "import torchvision\n",
    "from torchvision.datasets import CIFAR10,CIFAR100\n",
    "import torchvision.transforms as transforms\n",
    "from torchvision.transforms import ToTensor,Normalize"
   ]
  },
  {
   "cell_type": "code",
   "execution_count": 198,
   "metadata": {},
   "outputs": [
    {
     "name": "stdout",
     "output_type": "stream",
     "text": [
      "cuda\n",
      "0\n",
      "1\n",
      "GeForce RTX 3090\n",
      "<torch.cuda.device object at 0x7f1dfc0544f0>\n"
     ]
    }
   ],
   "source": [
    "device = 'cuda' if torch.cuda.is_available() else 'cpu'\n",
    "print(device)\n",
    "print(torch.cuda.current_device())\n",
    "print(torch.cuda.device_count())\n",
    "print(torch.cuda.get_device_name(0))\n",
    "print(torch.cuda.device(0))"
   ]
  },
  {
   "cell_type": "code",
   "execution_count": 199,
   "metadata": {},
   "outputs": [
    {
     "name": "stdout",
     "output_type": "stream",
     "text": [
      "True\n",
      "학습을 진행하는 기기: cuda:0\n"
     ]
    }
   ],
   "source": [
    "USE_CUDA = torch.cuda.is_available()\n",
    "print(USE_CUDA)\n",
    "\n",
    "device = torch.device('cuda:0' if USE_CUDA else 'cpu')\n",
    "print('학습을 진행하는 기기:',device)"
   ]
  },
  {
   "cell_type": "code",
   "execution_count": 200,
   "metadata": {},
   "outputs": [],
   "source": [
    "transform = transforms.Compose(\n",
    "    [transforms.ToTensor(),\n",
    "     transforms.Normalize((0.5, 0.5, 0.5), (0.5, 0.5, 0.5))])"
   ]
  },
  {
   "cell_type": "code",
   "execution_count": 201,
   "metadata": {},
   "outputs": [],
   "source": [
    "ds10=CIFAR10(root=\"data\",transform=transform)\n",
    "ts10=CIFAR10(root=\"data\",train=False,transform=transform)"
   ]
  },
  {
   "cell_type": "code",
   "execution_count": 202,
   "metadata": {},
   "outputs": [
    {
     "data": {
      "text/plain": [
       "(tensor([[[-0.5373, -0.6627, -0.6078,  ...,  0.2392,  0.1922,  0.1608],\n",
       "          [-0.8745, -1.0000, -0.8588,  ..., -0.0353, -0.0667, -0.0431],\n",
       "          [-0.8039, -0.8745, -0.6157,  ..., -0.0745, -0.0588, -0.1451],\n",
       "          ...,\n",
       "          [ 0.6314,  0.5765,  0.5529,  ...,  0.2549, -0.5608, -0.5843],\n",
       "          [ 0.4118,  0.3569,  0.4588,  ...,  0.4431, -0.2392, -0.3490],\n",
       "          [ 0.3882,  0.3176,  0.4039,  ...,  0.6941,  0.1843, -0.0353]],\n",
       " \n",
       "         [[-0.5137, -0.6392, -0.6235,  ...,  0.0353, -0.0196, -0.0275],\n",
       "          [-0.8431, -1.0000, -0.9373,  ..., -0.3098, -0.3490, -0.3176],\n",
       "          [-0.8118, -0.9451, -0.7882,  ..., -0.3412, -0.3412, -0.4275],\n",
       "          ...,\n",
       "          [ 0.3333,  0.2000,  0.2627,  ...,  0.0431, -0.7569, -0.7333],\n",
       "          [ 0.0902, -0.0353,  0.1294,  ...,  0.1608, -0.5137, -0.5843],\n",
       "          [ 0.1294,  0.0118,  0.1137,  ...,  0.4431, -0.0745, -0.2784]],\n",
       " \n",
       "         [[-0.5059, -0.6471, -0.6627,  ..., -0.1529, -0.2000, -0.1922],\n",
       "          [-0.8431, -1.0000, -1.0000,  ..., -0.5686, -0.6078, -0.5529],\n",
       "          [-0.8353, -1.0000, -0.9373,  ..., -0.6078, -0.6078, -0.6706],\n",
       "          ...,\n",
       "          [-0.2471, -0.7333, -0.7961,  ..., -0.4510, -0.9451, -0.8431],\n",
       "          [-0.2471, -0.6706, -0.7647,  ..., -0.2627, -0.7333, -0.7333],\n",
       "          [-0.0902, -0.2627, -0.3176,  ...,  0.0980, -0.3412, -0.4353]]]),\n",
       " 6)"
      ]
     },
     "execution_count": 202,
     "metadata": {},
     "output_type": "execute_result"
    }
   ],
   "source": [
    "ds10[0]"
   ]
  },
  {
   "cell_type": "code",
   "execution_count": 203,
   "metadata": {},
   "outputs": [],
   "source": [
    "tr10,vs10,_=random_split(ds10,[10000,10000,30000],torch.manual_seed(1))"
   ]
  },
  {
   "cell_type": "code",
   "execution_count": 204,
   "metadata": {},
   "outputs": [
    {
     "name": "stdout",
     "output_type": "stream",
     "text": [
      "{0: 1010, 1: 1011, 6: 978, 3: 1002, 4: 1011, 8: 1048, 7: 998, 2: 999, 5: 982, 9: 961}\n"
     ]
    }
   ],
   "source": [
    "class_count={}\n",
    "for i in tr10:\n",
    "    if i[1] not in class_count:\n",
    "        class_count[i[1]]=0\n",
    "    class_count[i[1]]+=1\n",
    "print(class_count)"
   ]
  },
  {
   "cell_type": "code",
   "execution_count": 205,
   "metadata": {},
   "outputs": [],
   "source": [
    "class MyCNN(nn.Module):\n",
    "    def __init__(self):\n",
    "        super(MyCNN, self).__init__()\n",
    "        self.layer1 = nn.Sequential(\n",
    "            nn.Conv2d(in_channels=3,out_channels=6,kernel_size=5,stride=1),\n",
    "            nn.ReLU(),\n",
    "            nn.MaxPool2d(kernel_size=2, stride=2)\n",
    "            )\n",
    "        self.layer2 = nn.Sequential(\n",
    "            nn.Conv2d(in_channels=6,out_channels=16,kernel_size=5,stride=1),\n",
    "            nn.ReLU(),\n",
    "            nn.MaxPool2d(kernel_size=2, stride=2)\n",
    "            )\n",
    "        self.layer3 = nn.Sequential(\n",
    "            nn.Linear(16*5*5, 120),\n",
    "            nn.ReLU(),\n",
    "            nn.Linear(120,84),\n",
    "            nn.ReLU(),\n",
    "            nn.Linear(84,10),\n",
    "            )\n",
    "        \n",
    "    def forward(self,x):\n",
    "        out = self.layer1(x)\n",
    "        out = self.layer2(out)\n",
    "        #out = out.view(out.size(0),-1) #Flatten feature mapes to one-dimension vector\n",
    "        out = torch.flatten(out,1)\n",
    "        out = self.layer3(out)\n",
    "        return out\n",
    "\n",
    "myCnn=MyCNN().to(device)"
   ]
  },
  {
   "cell_type": "code",
   "execution_count": 206,
   "metadata": {},
   "outputs": [],
   "source": [
    "learning_rate=5e-4\n",
    "training_epochs=75\n",
    "batch_size=50"
   ]
  },
  {
   "cell_type": "code",
   "execution_count": 207,
   "metadata": {},
   "outputs": [],
   "source": [
    "obj=nn.CrossEntropyLoss().to(device)\n",
    "opt=Adam(myCnn.parameters(),lr=0.001)"
   ]
  },
  {
   "cell_type": "code",
   "execution_count": 208,
   "metadata": {},
   "outputs": [
    {
     "name": "stdout",
     "output_type": "stream",
     "text": [
      "Adjusting learning rate of group 0 to 1.0000e-03.\n"
     ]
    }
   ],
   "source": [
    "sch=scheduler.StepLR(optimizer=opt,step_size=40,gamma=0.1,verbose=True)"
   ]
  },
  {
   "cell_type": "code",
   "execution_count": 209,
   "metadata": {},
   "outputs": [],
   "source": [
    "tr10_loader=DataLoader(dataset=tr10,\n",
    "                      batch_size=batch_size,\n",
    "                      shuffle=True,\n",
    "                      drop_last=True)\n",
    "\n",
    "vs10_loader=DataLoader(dataset=tr10,\n",
    "                      batch_size=batch_size,\n",
    "                      shuffle=False)"
   ]
  },
  {
   "cell_type": "code",
   "execution_count": 210,
   "metadata": {},
   "outputs": [
    {
     "data": {
      "text/plain": [
       "200"
      ]
     },
     "execution_count": 210,
     "metadata": {},
     "output_type": "execute_result"
    }
   ],
   "source": [
    "tr10_batch_num=len(tr10_loader)\n",
    "tr10_batch_num"
   ]
  },
  {
   "cell_type": "code",
   "execution_count": 211,
   "metadata": {},
   "outputs": [
    {
     "data": {
      "text/plain": [
       "200"
      ]
     },
     "execution_count": 211,
     "metadata": {},
     "output_type": "execute_result"
    }
   ],
   "source": [
    "vs10_batch_num=len(vs10_loader)\n",
    "vs10_batch_num"
   ]
  },
  {
   "cell_type": "code",
   "execution_count": null,
   "metadata": {},
   "outputs": [
    {
     "name": "stdout",
     "output_type": "stream",
     "text": [
      "[ Epoch:  0  loss : 7.701528842449188  validation : 6.681652579307553 ]\n",
      "[ Epoch:  1  loss : 6.405676066875457  validation : 5.995504202842717 ]\n",
      "[ Epoch:  2  loss : 5.953309998512271  validation : 5.6354516172409035 ]\n",
      "[ Epoch:  3  loss : 5.60926720142364  validation : 5.380194628238679 ]\n",
      "[ Epoch:  4  loss : 5.334268894195557  validation : 5.064200735092163 ]\n",
      "[ Epoch:  5  loss : 5.101639945507049  validation : 4.911712135076521 ]\n",
      "[ Epoch:  6  loss : 4.85831297516823  validation : 4.542825497388839 ]\n",
      "[ Epoch:  7  loss : 4.69860607981682  validation : 4.450811620950696 ]\n",
      "[ Epoch:  8  loss : 4.468739978075031  validation : 4.047568520307542 ]\n",
      "[ Epoch:  9  loss : 4.222454736232758  validation : 4.145597387552258 ]\n",
      "[ Epoch:  10  loss : 4.054161916971207  validation : 3.9797762656211857 ]\n",
      "[ Epoch:  11  loss : 3.8883000814914697  validation : 3.5173934435844427 ]\n",
      "[ Epoch:  12  loss : 3.655307083129882  validation : 3.3548850774764998 ]\n",
      "[ Epoch:  13  loss : 3.4774114871025112  validation : 3.3376435911655427 ]\n",
      "[ Epoch:  14  loss : 3.2815043115615836  validation : 2.8337413930892934 ]\n",
      "[ Epoch:  15  loss : 3.1097178298234933  validation : 3.0153620493412023 ]\n",
      "[ Epoch:  16  loss : 2.8937335062026976  validation : 2.583399891257287 ]\n",
      "[ Epoch:  17  loss : 2.6990655982494354  validation : 2.300738245844842 ]\n",
      "[ Epoch:  18  loss : 2.5243693739175805  validation : 2.2721802908182145 ]\n",
      "[ Epoch:  19  loss : 2.385454245209692  validation : 2.030077304244041 ]\n",
      "[ Epoch:  20  loss : 2.1693810963630678  validation : 1.8020289880037317 ]\n",
      "[ Epoch:  21  loss : 1.9700102317333237  validation : 1.7010443726181985 ]\n",
      "[ Epoch:  22  loss : 1.8205155885219577  validation : 1.4245715776085854 ]\n",
      "[ Epoch:  23  loss : 1.639004783928394  validation : 1.3513251742720604 ]\n",
      "[ Epoch:  24  loss : 1.5131461431086064  validation : 1.1215567994117732 ]\n",
      "[ Epoch:  25  loss : 1.303362899124623  validation : 1.164894762188196 ]\n",
      "[ Epoch:  26  loss : 1.2575458973646167  validation : 0.9686611102521417 ]\n",
      "[ Epoch:  27  loss : 1.0597939239442353  validation : 1.0534512747824194 ]\n",
      "[ Epoch:  28  loss : 0.9768972241878515  validation : 0.8206338517367836 ]\n",
      "[ Epoch:  29  loss : 0.9154443870484832  validation : 0.7091900201141835 ]\n",
      "[ Epoch:  30  loss : 0.7905458848923447  validation : 0.6467323734611271 ]\n",
      "[ Epoch:  31  loss : 0.6937499472498891  validation : 0.5871076049655676 ]\n",
      "[ Epoch:  32  loss : 0.7318944086879494  validation : 0.6083287832885982 ]\n",
      "[ Epoch:  33  loss : 0.6774277194589381  validation : 0.6278855223208671 ]\n",
      "[ Epoch:  34  loss : 0.47059161938726896  validation : 0.3170389962568879 ]\n",
      "[ Epoch:  35  loss : 0.39344315852969897  validation : 0.3228611508570609 ]\n",
      "[ Epoch:  36  loss : 0.4884020693227649  validation : 0.3544615256041289 ]\n",
      "[ Epoch:  37  loss : 0.625316175594926  validation : 0.5004533812403678 ]\n",
      "[ Epoch:  38  loss : 0.5353906802833079  validation : 0.3605517061613503 ]\n"
     ]
    }
   ],
   "source": [
    "training_loss_history=[]\n",
    "validation_loss_history=[]\n",
    "\n",
    "for epoch in range(training_epochs):\n",
    "    training_loss=0.0\n",
    "    validation_loss=0.0\n",
    "    for X,y in tr10_loader:\n",
    "        X=X.to(device)\n",
    "        y=y.to(device)\n",
    "        \n",
    "        opt.zero_grad()\n",
    "        output=myCnn(X) \n",
    "        cost=obj(output,y)\n",
    "        cost.backward()\n",
    "        opt.step()\n",
    "        \n",
    "        training_loss+=cost.item()/batch_size\n",
    "        \n",
    "    with torch.no_grad():\n",
    "        for X,y in vs10_loader:\n",
    "            X=X.to(device)\n",
    "            y=y.to(device)\n",
    "            \n",
    "            output=myCnn(X)\n",
    "            cost=obj(output,y)\n",
    "            \n",
    "            validation_loss+=cost.item()/batch_size\n",
    "            \n",
    "    if epoch==39:        \n",
    "        sch.step()        \n",
    "    training_loss_history.append(training_loss)\n",
    "    validation_loss_history.append(validation_loss)\n",
    "    print(\"[ Epoch: \",epoch,\" loss :\",training_loss,\" validation :\",validation_loss,\"]\")"
   ]
  },
  {
   "cell_type": "code",
   "execution_count": null,
   "metadata": {},
   "outputs": [],
   "source": [
    "sch.get_last_lr()"
   ]
  },
  {
   "cell_type": "code",
   "execution_count": null,
   "metadata": {},
   "outputs": [],
   "source": [
    "df1=pd.Series(training_loss)\n",
    "df1"
   ]
  },
  {
   "cell_type": "raw",
   "metadata": {},
   "source": [
    "PATH=\"./cifar10_CNN.pth\"\n",
    "torch.save(myCnn.state_dict(),PATH)"
   ]
  },
  {
   "cell_type": "raw",
   "metadata": {},
   "source": [
    "myCnn=MyCNN().to(device)\n",
    "myCnn.load_state_dict(torch.load(PATH))"
   ]
  },
  {
   "cell_type": "code",
   "execution_count": null,
   "metadata": {},
   "outputs": [],
   "source": [
    "ts10_loader=DataLoader(dataset=ts10,\n",
    "                      batch_size=batch_size,\n",
    "                      shuffle=False, num_workers=2)"
   ]
  },
  {
   "cell_type": "code",
   "execution_count": null,
   "metadata": {},
   "outputs": [],
   "source": [
    "correct = 0\n",
    "total = 0\n",
    "# since we're not training, we don't need to calculate the gradients for our outputs\n",
    "with torch.no_grad():\n",
    "    for data in ts10_loader:\n",
    "        images, labels = data[0].to(device), data[1].to(device)\n",
    "        # calculate outputs by running images through the network\n",
    "        outputs = myCnn(images)\n",
    "        # the class with the highest energy is what we choose as prediction\n",
    "        _, predicted = torch.max(outputs.data, 1)\n",
    "        total += labels.size(0)\n",
    "        correct += (predicted == labels).sum().item()\n",
    "\n",
    "print('Accuracy of the network on the 10000 test images: %d %%' % (\n",
    "    100 * correct / total))\n"
   ]
  },
  {
   "cell_type": "code",
   "execution_count": null,
   "metadata": {},
   "outputs": [],
   "source": []
  }
 ],
 "metadata": {
  "kernelspec": {
   "display_name": "Python 3",
   "language": "python",
   "name": "python3"
  },
  "language_info": {
   "codemirror_mode": {
    "name": "ipython",
    "version": 3
   },
   "file_extension": ".py",
   "mimetype": "text/x-python",
   "name": "python",
   "nbconvert_exporter": "python",
   "pygments_lexer": "ipython3",
   "version": "3.8.5"
  }
 },
 "nbformat": 4,
 "nbformat_minor": 4
}
