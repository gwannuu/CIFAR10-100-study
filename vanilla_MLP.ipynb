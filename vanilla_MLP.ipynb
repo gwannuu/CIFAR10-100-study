{
 "cells": [
  {
   "cell_type": "code",
   "execution_count": 1,
   "id": "1a6b8e4b-17f8-40eb-b31f-8c79f19bf2cb",
   "metadata": {},
   "outputs": [],
   "source": [
    "import matplotlib.pyplot as plt\n",
    "import time\n",
    "\n",
    "import torch\n",
    "import torch.nn as nn\n",
    "from torch.optim import Adam,SGD\n",
    "\n",
    "from torch.utils.data import random_split, DataLoader\n",
    "\n",
    "import torchvision\n",
    "from torchvision.datasets import CIFAR10,CIFAR100\n",
    "import torchvision.transforms as transforms\n",
    "from torchvision.transforms import ToTensor,Normalize\n"
   ]
  },
  {
   "cell_type": "code",
   "execution_count": 2,
   "id": "bcfeb998-7b0e-4c0f-8c36-00726460f7f1",
   "metadata": {},
   "outputs": [
    {
     "name": "stdout",
     "output_type": "stream",
     "text": [
      "cuda\n",
      "0\n",
      "1\n",
      "GeForce RTX 3090\n",
      "<torch.cuda.device object at 0x0000026D048AC508>\n"
     ]
    }
   ],
   "source": [
    "device = 'cuda' if torch.cuda.is_available() else 'cpu'\n",
    "print(device)\n",
    "print(torch.cuda.current_device())\n",
    "print(torch.cuda.device_count())\n",
    "print(torch.cuda.get_device_name(0))\n",
    "print(torch.cuda.device(0))"
   ]
  },
  {
   "cell_type": "code",
   "execution_count": 3,
   "id": "e8ec1787-1c99-4239-bbc6-13eb058c8151",
   "metadata": {},
   "outputs": [
    {
     "name": "stdout",
     "output_type": "stream",
     "text": [
      "True\n",
      "학습을 진행하는 기기: cuda:0\n"
     ]
    }
   ],
   "source": [
    "USE_CUDA = torch.cuda.is_available()\n",
    "print(USE_CUDA)\n",
    "\n",
    "device = torch.device('cuda:0' if USE_CUDA else 'cpu')\n",
    "print('학습을 진행하는 기기:',device)"
   ]
  },
  {
   "cell_type": "code",
   "execution_count": 4,
   "id": "4e7677a3-f16b-4099-8525-194c54069041",
   "metadata": {},
   "outputs": [],
   "source": [
    "transform = transforms.Compose(\n",
    "    [transforms.ToTensor(),\n",
    "     transforms.Normalize((0.5, 0.5, 0.5), (0.5, 0.5, 0.5))])"
   ]
  },
  {
   "cell_type": "code",
   "execution_count": 5,
   "id": "52819469-3d81-40b9-bd56-d6b3c85b9a37",
   "metadata": {},
   "outputs": [
    {
     "name": "stdout",
     "output_type": "stream",
     "text": [
      "Files already downloaded and verified\n",
      "Files already downloaded and verified\n"
     ]
    }
   ],
   "source": [
    "ds10=CIFAR10(root=\"./data\",download=True,train=True,transform=transform)\n",
    "ts10=CIFAR10(root=\"./data\",download=True,train=False,transform=transform)"
   ]
  },
  {
   "cell_type": "code",
   "execution_count": 6,
   "id": "b3a0ca8f-a753-4d11-8b48-47493ce5c752",
   "metadata": {},
   "outputs": [],
   "source": [
    "tr10,vs10,_=random_split(ds10,[10000,10000,30000],torch.manual_seed(1))"
   ]
  },
  {
   "cell_type": "raw",
   "id": "1d450232-e77a-4091-bbef-710bfccee4cf",
   "metadata": {},
   "source": [
    "class_count={}\n",
    "for i in tr10:\n",
    "    if i[1] not in class_count:\n",
    "        class_count[i[1]]=0\n",
    "    class_count[i[1]]+=1\n",
    "print(class_count)"
   ]
  },
  {
   "cell_type": "code",
   "execution_count": 7,
   "id": "11f4ef87-2a54-4bf1-b531-a0c898bc1fac",
   "metadata": {},
   "outputs": [],
   "source": [
    "class MyMLP(nn.Module):\n",
    "    def __init__(self):\n",
    "        super(MyMLP, self).__init__()\n",
    "        self.layer = nn.Sequential(\n",
    "            nn.Linear(in_features=3*32*32,out_features=512),\n",
    "            nn.ReLU(),\n",
    "            nn.Linear(in_features=512,out_features=512),\n",
    "            nn.ReLU(),\n",
    "            nn.Linear(in_features=512,out_features=64),\n",
    "            nn.ReLU(),\n",
    "            nn.Linear(in_features=64,out_features=64),\n",
    "            nn.ReLU(),\n",
    "            nn.Linear(in_features=64,out_features=10)\n",
    "            )\n",
    "        \n",
    "    def forward(self,in_):\n",
    "        in_=self.layer(in_)\n",
    "        return in_\n",
    "\n",
    "mlp=MyMLP().to(device)"
   ]
  },
  {
   "cell_type": "code",
   "execution_count": 8,
   "id": "e3bace43-4304-4880-a8b4-3e53b6feb80c",
   "metadata": {},
   "outputs": [],
   "source": [
    "training_epochs=20\n",
    "batch_size=4"
   ]
  },
  {
   "cell_type": "code",
   "execution_count": 9,
   "id": "0c770dc6-8b76-496c-b9aa-8f6ac7e381ff",
   "metadata": {},
   "outputs": [],
   "source": [
    "obj=nn.CrossEntropyLoss().to(device)\n",
    "opt=SGD(mlp.parameters(),lr=0.001, momentum=0.9)"
   ]
  },
  {
   "cell_type": "code",
   "execution_count": 10,
   "id": "c515c0f5-c3f0-4870-b4c9-9e3460f3471e",
   "metadata": {},
   "outputs": [],
   "source": [
    "tr10_loader=DataLoader(dataset=tr10,\n",
    "                      batch_size=batch_size,\n",
    "                      shuffle=True,\n",
    "                      drop_last=True)\n",
    "\n",
    "vs10_loader=DataLoader(dataset=vs10,\n",
    "                      batch_size=batch_size,\n",
    "                      shuffle=False)"
   ]
  },
  {
   "cell_type": "code",
   "execution_count": 11,
   "id": "04e953c7-137c-4dc8-983b-f0e345599c4a",
   "metadata": {},
   "outputs": [
    {
     "name": "stdout",
     "output_type": "stream",
     "text": [
      "[ Epoch:  1  loss : 2.142202998590469  validation : 1.9548051395893098 ]\n",
      "[ Epoch:  2  loss : 1.8110411031484603  validation : 1.7190808244943618 ]\n",
      "[ Epoch:  3  loss : 1.6424328967452049  validation : 1.6808160583853722 ]\n",
      "[ Epoch:  4  loss : 1.525046788418293  validation : 1.631696072101593 ]\n",
      "[ Epoch:  5  loss : 1.4141672356963157  validation : 1.5704778788089753 ]\n",
      "[ Epoch:  6  loss : 1.3179607893288134  validation : 1.5787085073530673 ]\n",
      "[ Epoch:  7  loss : 1.2209821961641312  validation : 1.5630721148490905 ]\n",
      "[ Epoch:  8  loss : 1.132253079378605  validation : 1.6147253142267466 ]\n",
      "[ Epoch:  9  loss : 1.0331394112154841  validation : 1.7459957604408265 ]\n",
      "[ Epoch:  10  loss : 0.9463169378906489  validation : 1.7741660263508559 ]\n",
      "[ Epoch:  11  loss : 0.8706237489165738  validation : 1.7318455650910736 ]\n",
      "[ Epoch:  12  loss : 0.769515979674831  validation : 1.8389368786282838 ]\n",
      "[ Epoch:  13  loss : 0.7153870706221088  validation : 1.8085272461742163 ]\n",
      "[ Epoch:  14  loss : 0.6298182259522378  validation : 2.078718556620553 ]\n",
      "[ Epoch:  15  loss : 0.5716975516783074  validation : 2.1597004232898356 ]\n",
      "[ Epoch:  16  loss : 0.5115871161616408  validation : 2.374454717030376 ]\n",
      "[ Epoch:  17  loss : 0.4681267671363894  validation : 2.461156464791368 ]\n",
      "[ Epoch:  18  loss : 0.4225374012866174  validation : 2.4793922618696467 ]\n",
      "[ Epoch:  19  loss : 0.3819452215852565  validation : 2.5718052421018482 ]\n",
      "[ Epoch:  20  loss : 0.3482027857136098  validation : 2.841411476537876 ]\n",
      "Time : 207.3168489933014\n"
     ]
    }
   ],
   "source": [
    "start=time.time()\n",
    "\n",
    "training_loss_history=[]\n",
    "validation_loss_history=[]\n",
    "\n",
    "for epoch in range(training_epochs):\n",
    "    #mlp.train()\n",
    "    training_loss=0.0\n",
    "    validation_loss=0.0\n",
    "    for X,y in tr10_loader:\n",
    "        X=X.to(device)\n",
    "        y=y.to(device)\n",
    "        X=X.view(-1,3*32*32)\n",
    "        \n",
    "        opt.zero_grad()\n",
    "        output=mlp(X) \n",
    "        #print(output)\n",
    "        #print(y)\n",
    "        cost=obj(output,y)\n",
    "        cost.backward()\n",
    "        opt.step()\n",
    "        \n",
    "        training_loss+=cost.item()\n",
    "        \n",
    "    with torch.no_grad():\n",
    "        #mlp.eval()\n",
    "        for X,y in vs10_loader:\n",
    "            X=X.to(device)\n",
    "            y=y.to(device)\n",
    "            X=X.view(-1,3*32*32)\n",
    "            output=mlp(X)\n",
    "            cost=obj(output,y)\n",
    "            \n",
    "            validation_loss+=cost.item()\n",
    "            \n",
    "    #if epoch==39:        \n",
    "    #    sch.step()        \n",
    "    training_loss_history.append(training_loss/(10000/batch_size))\n",
    "    validation_loss_history.append(validation_loss/(10000/batch_size))\n",
    "    print(\"[ Epoch: \",epoch+1,\" loss :\",training_loss/(10000/batch_size),\" validation :\",validation_loss/(10000/batch_size),\"]\")\n",
    "    \n",
    "print(\"Time :\",time.time()-start)"
   ]
  },
  {
   "cell_type": "code",
   "execution_count": 25,
   "id": "6db6781f-1344-4470-a766-ce460e049068",
   "metadata": {},
   "outputs": [
    {
     "data": {
      "image/png": "[encoded data removed]",
      "text/plain": [
       "<Figure size 864x576 with 1 Axes>"
      ]
     },
     "metadata": {
      "needs_background": "light"
     },
     "output_type": "display_data"
    }
   ],
   "source": [
    "plt.figure(figsize=(12,8))\n",
    "plt.plot(training_loss_history)\n",
    "plt.plot(validation_loss_history)\n",
    "plt.title(\"MLP Train-Validation plot CIFAR10\")\n",
    "plt.savefig(\"MLP Train-Validation plot CIFAR10.png\")"
   ]
  },
  {
   "cell_type": "code",
   "execution_count": 14,
   "id": "adb8d152-df8a-44be-8221-a92f2df60a74",
   "metadata": {},
   "outputs": [],
   "source": [
    "ts10_loader=DataLoader(dataset=ts10,\n",
    "                      batch_size=batch_size,\n",
    "                      shuffle=False)"
   ]
  },
  {
   "cell_type": "code",
   "execution_count": 15,
   "id": "8d63a4a1-fc92-4a51-a2cc-c549354a2846",
   "metadata": {},
   "outputs": [],
   "source": [
    "mlp=MyMLP().to(device)\n",
    "training_epochs=7\n",
    "batch_size=4\n",
    "obj=nn.CrossEntropyLoss().to(device)\n",
    "opt=SGD(mlp.parameters(),lr=0.001, momentum=0.9)"
   ]
  },
  {
   "cell_type": "code",
   "execution_count": 16,
   "id": "931f7435-4bde-4f4c-b16e-0377705ed0ee",
   "metadata": {},
   "outputs": [
    {
     "name": "stdout",
     "output_type": "stream",
     "text": [
      "Time : 45.45531916618347\n"
     ]
    }
   ],
   "source": [
    "start=time.time()\n",
    "\n",
    "for epoch in range(training_epochs):\n",
    "    #mlp.train()\n",
    "    \n",
    "    for X,y in tr10_loader:\n",
    "        X=X.to(device)\n",
    "        y=y.to(device)\n",
    "        X=X.view(-1,3*32*32)\n",
    "        \n",
    "        opt.zero_grad()\n",
    "        output=mlp(X) \n",
    "        #print(output)\n",
    "        #print(y)\n",
    "        cost=obj(output,y)\n",
    "        cost.backward()\n",
    "        opt.step()\n",
    "\n",
    "print(\"Time :\",time.time()-start)"
   ]
  },
  {
   "cell_type": "code",
   "execution_count": 18,
   "id": "eded413d-f159-49e2-a3dd-523af6d88a36",
   "metadata": {},
   "outputs": [
    {
     "name": "stdout",
     "output_type": "stream",
     "text": [
      "Accuracy : 46.51\n",
      "Time : 3.580897569656372\n"
     ]
    }
   ],
   "source": [
    "start=time.time()\n",
    "\n",
    "correct = 0\n",
    "total = 0\n",
    "# since we're not training, we don't need to calculate the gradients for our outputs\n",
    "with torch.no_grad():\n",
    "    for data in ts10_loader:\n",
    "        images, labels = data[0].to(device), data[1].to(device)\n",
    "        # calculate outputs by running images through the network\n",
    "        images=images.view(-1,3*32*32)\n",
    "        outputs = mlp(images)\n",
    "        # the class with the highest energy is what we choose as prediction\n",
    "        _, predicted = torch.max(outputs.data, 1)\n",
    "        total += labels.size(0)\n",
    "        correct += (predicted == labels).sum().item()\n",
    "\n",
    "print('Accuracy :',(100 * correct / total))\n",
    "print(\"Time :\",time.time()-start)"
   ]
  },
  {
   "cell_type": "code",
   "execution_count": 19,
   "id": "8e01c806-fb24-4dd6-8b99-e061ea1e88e9",
   "metadata": {},
   "outputs": [
    {
     "name": "stdout",
     "output_type": "stream",
     "text": [
      "Files already downloaded and verified\n",
      "Files already downloaded and verified\n"
     ]
    }
   ],
   "source": [
    "ds100=CIFAR100(root=\"./data\",download=True,train=True,transform=transform)\n",
    "ts100=CIFAR100(root=\"./data\",download=True,train=False,transform=transform)"
   ]
  },
  {
   "cell_type": "code",
   "execution_count": 20,
   "id": "4e788c20-ae5b-4892-b216-1c079607d261",
   "metadata": {},
   "outputs": [],
   "source": [
    "tr100,vs100,_=random_split(ds100,[10000,10000,30000],torch.manual_seed(1))"
   ]
  },
  {
   "cell_type": "code",
   "execution_count": 21,
   "id": "d9115d86-5ea0-4837-9433-d2fb10db1fa2",
   "metadata": {},
   "outputs": [],
   "source": [
    "class MyMLP(nn.Module):\n",
    "    def __init__(self):\n",
    "        super(MyMLP, self).__init__()\n",
    "        self.layer = nn.Sequential(\n",
    "            nn.Linear(in_features=3*32*32,out_features=512),\n",
    "            nn.ReLU(),\n",
    "            nn.Linear(in_features=512,out_features=512),\n",
    "            nn.ReLU(),\n",
    "            nn.Linear(in_features=512,out_features=64),\n",
    "            nn.ReLU(),\n",
    "            nn.Linear(in_features=64,out_features=64),\n",
    "            nn.ReLU(),\n",
    "            nn.Linear(in_features=64,out_features=100)\n",
    "            )\n",
    "        \n",
    "    def forward(self,in_):\n",
    "        in_=self.layer(in_)\n",
    "        return in_\n",
    "\n",
    "mlp=MyMLP().to(device)"
   ]
  },
  {
   "cell_type": "code",
   "execution_count": 22,
   "id": "56867d31-8584-41a2-b6fa-9a40826207db",
   "metadata": {},
   "outputs": [],
   "source": [
    "mlp=MyMLP().to(device)\n",
    "training_epochs=20\n",
    "batch_size=4\n",
    "obj=nn.CrossEntropyLoss().to(device)\n",
    "opt=SGD(mlp.parameters(),lr=0.001, momentum=0.9)"
   ]
  },
  {
   "cell_type": "code",
   "execution_count": 23,
   "id": "0cd998c6-a222-4e8e-80e5-4061c182f6f8",
   "metadata": {},
   "outputs": [],
   "source": [
    "tr100_loader=DataLoader(dataset=tr100,\n",
    "                      batch_size=batch_size,\n",
    "                      shuffle=True,\n",
    "                      drop_last=True)\n",
    "\n",
    "vs100_loader=DataLoader(dataset=vs100,\n",
    "                      batch_size=batch_size,\n",
    "                      shuffle=False)"
   ]
  },
  {
   "cell_type": "code",
   "execution_count": 24,
   "id": "8fcde530-2f1f-43ac-805c-d2edeb9bd7c8",
   "metadata": {},
   "outputs": [
    {
     "name": "stdout",
     "output_type": "stream",
     "text": [
      "[ Epoch:  1  loss : 4.5960543802261355  validation : 4.560127123069763 ]\n",
      "[ Epoch:  2  loss : 4.42267528514862  validation : 4.2365086260795595 ]\n",
      "[ Epoch:  3  loss : 4.080802494430542  validation : 4.026544191646576 ]\n",
      "[ Epoch:  4  loss : 3.900468555212021  validation : 3.9047168031215667 ]\n",
      "[ Epoch:  5  loss : 3.744750054550171  validation : 3.8052525266170503 ]\n",
      "[ Epoch:  6  loss : 3.615924840307236  validation : 3.746118795251846 ]\n",
      "[ Epoch:  7  loss : 3.4970622602462766  validation : 3.7585635910511015 ]\n",
      "[ Epoch:  8  loss : 3.3819212349414824  validation : 3.6999246192455293 ]\n",
      "[ Epoch:  9  loss : 3.2692795350074766  validation : 3.6680590909957886 ]\n",
      "[ Epoch:  10  loss : 3.149893317890167  validation : 3.7014604766845705 ]\n",
      "[ Epoch:  11  loss : 3.0412246639966964  validation : 3.7072127315998076 ]\n",
      "[ Epoch:  12  loss : 2.9056171044349672  validation : 3.7975613358497617 ]\n",
      "[ Epoch:  13  loss : 2.7829961258292197  validation : 3.892106381559372 ]\n",
      "[ Epoch:  14  loss : 2.6461162436008454  validation : 3.847962786746025 ]\n",
      "[ Epoch:  15  loss : 2.5083157913148404  validation : 3.930093544816971 ]\n",
      "[ Epoch:  16  loss : 2.395046823656559  validation : 4.132644591093063 ]\n",
      "[ Epoch:  17  loss : 2.236546684369445  validation : 4.315653156542778 ]\n",
      "[ Epoch:  18  loss : 2.124411217790842  validation : 4.431360833287239 ]\n",
      "[ Epoch:  19  loss : 1.972091958719492  validation : 4.636006772530079 ]\n",
      "[ Epoch:  20  loss : 1.8504095105051994  validation : 4.759080553817749 ]\n",
      "Time : 205.32758688926697\n"
     ]
    }
   ],
   "source": [
    "start=time.time()\n",
    "\n",
    "training_loss_history_=[]\n",
    "validation_loss_history_=[]\n",
    "\n",
    "for epoch in range(training_epochs):\n",
    "    #mlp.train()\n",
    "    training_loss=0.0\n",
    "    validation_loss=0.0\n",
    "    for X,y in tr100_loader:\n",
    "        X=X.to(device)\n",
    "        y=y.to(device)\n",
    "        X=X.view(-1,3*32*32)\n",
    "        \n",
    "        opt.zero_grad()\n",
    "        output=mlp(X) \n",
    "        #print(output)\n",
    "        #print(y)\n",
    "        cost=obj(output,y)\n",
    "        cost.backward()\n",
    "        opt.step()\n",
    "        \n",
    "        training_loss+=cost.item()\n",
    "        \n",
    "    with torch.no_grad():\n",
    "        #mlp.eval()\n",
    "        for X,y in vs100_loader:\n",
    "            X=X.to(device)\n",
    "            y=y.to(device)\n",
    "            X=X.view(-1,3*32*32)\n",
    "            output=mlp(X)\n",
    "            cost=obj(output,y)\n",
    "            \n",
    "            validation_loss+=cost.item()\n",
    "            \n",
    "    #if epoch==39:        \n",
    "    #    sch.step()        \n",
    "    training_loss_history_.append(training_loss/(10000/batch_size))\n",
    "    validation_loss_history_.append(validation_loss/(10000/batch_size))\n",
    "    print(\"[ Epoch: \",epoch+1,\" loss :\",training_loss/(10000/batch_size),\" validation :\",validation_loss/(10000/batch_size),\"]\")\n",
    "    \n",
    "print(\"Time :\",time.time()-start)    "
   ]
  },
  {
   "cell_type": "code",
   "execution_count": 26,
   "id": "be407928-0cb2-493e-9508-73d989973c8a",
   "metadata": {},
   "outputs": [
    {
     "data": {
      "image/png": "[encoded data removed]",
      "text/plain": [
       "<Figure size 864x576 with 1 Axes>"
      ]
     },
     "metadata": {
      "needs_background": "light"
     },
     "output_type": "display_data"
    }
   ],
   "source": [
    "plt.figure(figsize=(12,8))\n",
    "plt.plot(training_loss_history_)\n",
    "plt.plot(validation_loss_history_)\n",
    "plt.title(\"MLP Train-Validation plot CIFAR100\")\n",
    "plt.savefig(\"MLP Train-Validation plot CIFAR100.png\")"
   ]
  },
  {
   "cell_type": "code",
   "execution_count": 27,
   "id": "2e5d22d5-a8a7-4f58-b596-d1dbdc7ffc4d",
   "metadata": {},
   "outputs": [],
   "source": [
    "mlp=MyMLP().to(device)\n",
    "training_epochs=9\n",
    "batch_size=4\n",
    "obj=nn.CrossEntropyLoss().to(device)\n",
    "opt=SGD(mlp.parameters(),lr=0.001, momentum=0.9)"
   ]
  },
  {
   "cell_type": "code",
   "execution_count": 28,
   "id": "dddc0761-5f7a-427f-922e-3717061e9310",
   "metadata": {},
   "outputs": [
    {
     "name": "stdout",
     "output_type": "stream",
     "text": [
      "Time : 61.348567724227905\n"
     ]
    }
   ],
   "source": [
    "start=time.time()\n",
    "\n",
    "for epoch in range(training_epochs):\n",
    "    #mlp.train()\n",
    "    for X,y in tr100_loader:\n",
    "        X=X.to(device)\n",
    "        y=y.to(device)\n",
    "        X=X.view(-1,3*32*32)\n",
    "        \n",
    "        opt.zero_grad()\n",
    "        output=mlp(X) \n",
    "        #print(output)\n",
    "        #print(y)\n",
    "        cost=obj(output,y)\n",
    "        cost.backward()\n",
    "        opt.step()\n",
    "        \n",
    "        training_loss+=cost.item()\n",
    "        \n",
    "print(\"Time :\",time.time()-start)"
   ]
  },
  {
   "cell_type": "code",
   "execution_count": 29,
   "id": "44b3a9f8-1fe6-4c1d-88f6-d285c9d39be6",
   "metadata": {},
   "outputs": [],
   "source": [
    "ts100_loader=DataLoader(dataset=ts100,\n",
    "                      batch_size=batch_size,\n",
    "                      shuffle=False)"
   ]
  },
  {
   "cell_type": "code",
   "execution_count": 30,
   "id": "19e836c9-c23d-4494-9cf6-39e60626700f",
   "metadata": {},
   "outputs": [
    {
     "name": "stdout",
     "output_type": "stream",
     "text": [
      "Accuracy : 14.03\n",
      "Time : 3.594985246658325\n"
     ]
    }
   ],
   "source": [
    "start=time.time()\n",
    "\n",
    "correct = 0\n",
    "total = 0\n",
    "# since we're not training, we don't need to calculate the gradients for our outputs\n",
    "with torch.no_grad():\n",
    "    for data in ts100_loader:\n",
    "        images, labels = data[0].to(device), data[1].to(device)\n",
    "        # calculate outputs by running images through the network\n",
    "        images=images.view(-1,3*32*32)\n",
    "        outputs = mlp(images)\n",
    "        # the class with the highest energy is what we choose as prediction\n",
    "        _, predicted = torch.max(outputs.data, 1)\n",
    "        total += labels.size(0)\n",
    "        correct += (predicted == labels).sum().item()\n",
    "\n",
    "print('Accuracy :',(100 * correct / total))\n",
    "print(\"Time :\",time.time()-start)"
   ]
  },
  {
   "cell_type": "code",
   "execution_count": null,
   "id": "f2859e72-f34e-4b17-b15e-4afcb2021096",
   "metadata": {},
   "outputs": [],
   "source": []
  }
 ],
 "metadata": {
  "kernelspec": {
   "display_name": "Python 3",
   "language": "python",
   "name": "python3"
  },
  "language_info": {
   "codemirror_mode": {
    "name": "ipython",
    "version": 3
   },
   "file_extension": ".py",
   "mimetype": "text/x-python",
   "name": "python",
   "nbconvert_exporter": "python",
   "pygments_lexer": "ipython3",
   "version": "3.7.10"
  }
 },
 "nbformat": 4,
 "nbformat_minor": 5
}
