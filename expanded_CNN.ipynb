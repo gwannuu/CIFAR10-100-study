{
 "cells": [
  {
   "cell_type": "code",
   "execution_count": 1,
   "metadata": {},
   "outputs": [],
   "source": [
    "import time\n",
    "\n",
    "import matplotlib.pyplot as plt\n",
    "import seaborn as sns\n",
    "import pandas as pd\n",
    "\n",
    "import torch\n",
    "import torch.nn as nn\n",
    "from torch.optim import Adam, SGD\n",
    "import torch.optim.lr_scheduler as scheduler\n",
    "from torch.utils.data import random_split,DataLoader\n",
    "\n",
    "import torchvision\n",
    "from torchvision.datasets import CIFAR10,CIFAR100\n",
    "import torchvision.transforms as transforms\n",
    "from torchvision.transforms import ToTensor,Normalize"
   ]
  },
  {
   "cell_type": "code",
   "execution_count": 2,
   "metadata": {},
   "outputs": [
    {
     "name": "stdout",
     "output_type": "stream",
     "text": [
      "cuda\n",
      "0\n",
      "1\n",
      "GeForce RTX 3090\n",
      "<torch.cuda.device object at 0x000001DC3E511CC8>\n"
     ]
    }
   ],
   "source": [
    "device = 'cuda' if torch.cuda.is_available() else 'cpu'\n",
    "print(device)\n",
    "print(torch.cuda.current_device())\n",
    "print(torch.cuda.device_count())\n",
    "print(torch.cuda.get_device_name(0))\n",
    "print(torch.cuda.device(0))"
   ]
  },
  {
   "cell_type": "code",
   "execution_count": 3,
   "metadata": {},
   "outputs": [
    {
     "name": "stdout",
     "output_type": "stream",
     "text": [
      "True\n",
      "학습을 진행하는 기기: cuda:0\n"
     ]
    }
   ],
   "source": [
    "USE_CUDA = torch.cuda.is_available()\n",
    "print(USE_CUDA)\n",
    "\n",
    "device = torch.device('cuda:0' if USE_CUDA else 'cpu')\n",
    "print('학습을 진행하는 기기:',device)"
   ]
  },
  {
   "cell_type": "code",
   "execution_count": 4,
   "metadata": {},
   "outputs": [],
   "source": [
    "transform = transforms.Compose(\n",
    "    [transforms.ToTensor(),\n",
    "     transforms.Normalize((0.5, 0.5, 0.5), (0.5, 0.5, 0.5))])"
   ]
  },
  {
   "cell_type": "code",
   "execution_count": 5,
   "metadata": {},
   "outputs": [
    {
     "name": "stdout",
     "output_type": "stream",
     "text": [
      "Files already downloaded and verified\n",
      "Files already downloaded and verified\n"
     ]
    }
   ],
   "source": [
    "ds10=CIFAR10(root=\"./data\",download=True,train=True,transform=transform)\n",
    "ts10=CIFAR10(root=\"./data\",download=True,train=False,transform=transform)"
   ]
  },
  {
   "cell_type": "code",
   "execution_count": 6,
   "metadata": {},
   "outputs": [],
   "source": [
    "tr10,vs10,_=random_split(ds10,[10000,10000,30000],torch.manual_seed(1))"
   ]
  },
  {
   "cell_type": "raw",
   "metadata": {},
   "source": [
    "class_count={}\n",
    "for i in tr10:\n",
    "    if i[1] not in class_count:\n",
    "        class_count[i[1]]=0\n",
    "    class_count[i[1]]+=1\n",
    "print(class_count)"
   ]
  },
  {
   "cell_type": "code",
   "execution_count": 49,
   "metadata": {},
   "outputs": [],
   "source": [
    "class MyCNN(nn.Module):\n",
    "    def __init__(self):\n",
    "        super(MyCNN, self).__init__()\n",
    "        self.layer1 = nn.Sequential(\n",
    "            nn.Conv2d(in_channels=3,out_channels=6,kernel_size=3,stride=1),\n",
    "            nn.ReLU(),\n",
    "          #  nn.BatchNorm2d(num_features=6),\n",
    "            nn.MaxPool2d(kernel_size=2, stride=2, padding=1)\n",
    "            )\n",
    "        self.layer2 = nn.Sequential(\n",
    "            nn.Conv2d(in_channels=6,out_channels=12,kernel_size=3,stride=1),\n",
    "            nn.ReLU(),\n",
    "           # nn.BatchNorm2d(num_features=12),\n",
    "            nn.MaxPool2d(kernel_size=2, stride=2, padding=1)\n",
    "            )\n",
    "        self.layer3 = nn.Sequential(\n",
    "            nn.Conv2d(in_channels=12,out_channels=24,kernel_size=3,stride=1),\n",
    "            nn.ReLU(),\n",
    "           # nn.BatchNorm2d(num_features=24),\n",
    "            nn.MaxPool2d(kernel_size=2, stride=2, padding=1)\n",
    "            )\n",
    "        self.layer4 = nn.Sequential(\n",
    "            nn.Conv2d(in_channels=24,out_channels=48,kernel_size=3,stride=1),\n",
    "            nn.ReLU(),\n",
    "           # nn.BatchNorm2d(num_features=48),\n",
    "            nn.MaxPool2d(kernel_size=2, stride=2, padding=1)\n",
    "            )\n",
    "        self.layer5 = nn.Sequential(\n",
    "            nn.Conv2d(in_channels=48,out_channels=144,kernel_size=2,stride=1),\n",
    "            nn.ReLU(),\n",
    "            )\n",
    "        self.layer6 = nn.Sequential(\n",
    "            nn.Conv2d(in_channels=144,out_channels=432,kernel_size=1,stride=1),\n",
    "            nn.ReLU(),\n",
    "            )\n",
    "        self.layer7 = nn.Sequential(\n",
    "            nn.Linear(432, 256),\n",
    "            nn.ReLU(),\n",
    "            nn.Linear(256,120),\n",
    "            nn.ReLU(),\n",
    "            nn.Linear(120,84),\n",
    "            nn.ReLU(),\n",
    "            nn.Linear(84,10),\n",
    "            )\n",
    "        \n",
    "    def forward(self,x):\n",
    "        out = self.layer1(x)\n",
    "        out = self.layer2(out)\n",
    "        out = self.layer3(out)\n",
    "        out = self.layer4(out)\n",
    "        out = self.layer5(out)\n",
    "        out = self.layer6(out)\n",
    "        #out = out.view(out.size(0),-1) #Flatten feature mapes to one-dimension vector\n",
    "        out = out.view(-1,432)\n",
    "        out = self.layer7(out)\n",
    "        return out\n"
   ]
  },
  {
   "cell_type": "code",
   "execution_count": 50,
   "metadata": {},
   "outputs": [],
   "source": [
    "myCnn=MyCNN().to(device)\n",
    "training_epochs=20\n",
    "batch_size=4\n",
    "obj=nn.CrossEntropyLoss().to(device)\n",
    "opt=SGD(myCnn.parameters(),lr=0.005, momentum=0.9)"
   ]
  },
  {
   "cell_type": "raw",
   "metadata": {},
   "source": [
    "sch=scheduler.StepLR(optimizer=opt,step_size=40,gamma=0.1,verbose=True)"
   ]
  },
  {
   "cell_type": "code",
   "execution_count": 51,
   "metadata": {},
   "outputs": [],
   "source": [
    "tr10_loader=DataLoader(dataset=tr10,\n",
    "                      batch_size=batch_size,\n",
    "                      shuffle=True,\n",
    "                      drop_last=True)\n",
    "\n",
    "vs10_loader=DataLoader(dataset=vs10,\n",
    "                      batch_size=batch_size,\n",
    "                      shuffle=False)"
   ]
  },
  {
   "cell_type": "code",
   "execution_count": 52,
   "metadata": {},
   "outputs": [
    {
     "name": "stdout",
     "output_type": "stream",
     "text": [
      "[ Epoch:  1  loss : 2.3059146825790404  validation : 2.308116782951355 ]\n",
      "[ Epoch:  2  loss : 2.305971097660065  validation : 2.3046347409248353 ]\n",
      "[ Epoch:  3  loss : 2.3056711356163024  validation : 2.3044833335876467 ]\n",
      "[ Epoch:  4  loss : 2.305518301868439  validation : 2.3059616770744324 ]\n",
      "[ Epoch:  5  loss : 2.306089134216309  validation : 2.304276773262024 ]\n",
      "[ Epoch:  6  loss : 2.3055954542160033  validation : 2.3048077439308168 ]\n",
      "[ Epoch:  7  loss : 2.3054769198417664  validation : 2.3104114677429197 ]\n",
      "[ Epoch:  8  loss : 2.305858648777008  validation : 2.306015175628662 ]\n",
      "[ Epoch:  9  loss : 2.3058597346305847  validation : 2.3059360852241517 ]\n",
      "[ Epoch:  10  loss : 2.305512041568756  validation : 2.3042623230934143 ]\n",
      "[ Epoch:  11  loss : 2.3054816542625427  validation : 2.304333261299133 ]\n",
      "[ Epoch:  12  loss : 2.3054438499450685  validation : 2.304513109493256 ]\n",
      "[ Epoch:  13  loss : 2.3052094740867615  validation : 2.3085350371360778 ]\n",
      "[ Epoch:  14  loss : 2.3051008979797363  validation : 2.3076388228416445 ]\n",
      "[ Epoch:  15  loss : 2.3054178698539736  validation : 2.3060439331054687 ]\n",
      "[ Epoch:  16  loss : 2.305212100982666  validation : 2.3087861057281494 ]\n",
      "[ Epoch:  17  loss : 2.305769320011139  validation : 2.3046378457069396 ]\n",
      "[ Epoch:  18  loss : 2.3050008732795715  validation : 2.3042957469940184 ]\n",
      "[ Epoch:  19  loss : 2.305407877922058  validation : 2.3043159049034116 ]\n",
      "[ Epoch:  20  loss : 2.305643609428406  validation : 2.304356964302063 ]\n",
      "Time : 388.19938921928406\n"
     ]
    }
   ],
   "source": [
    "start=time.time()\n",
    "\n",
    "training_loss_history=[]\n",
    "validation_loss_history=[]\n",
    "\n",
    "for epoch in range(training_epochs):\n",
    "    training_loss=0.0\n",
    "    validation_loss=0.0\n",
    "    for X,y in tr10_loader:\n",
    "        X=X.to(device)\n",
    "        y=y.to(device)\n",
    "        \n",
    "        opt.zero_grad()\n",
    "        output=myCnn(X) \n",
    "        cost=obj(output,y)\n",
    "        cost.backward()\n",
    "        opt.step()\n",
    "        \n",
    "        training_loss+=cost.item()\n",
    "        \n",
    "    with torch.no_grad():\n",
    "        for X,y in vs10_loader:\n",
    "            X=X.to(device)\n",
    "            y=y.to(device)\n",
    "            \n",
    "            output=myCnn(X)\n",
    "            cost=obj(output,y)\n",
    "            \n",
    "            validation_loss+=cost.item()\n",
    "            \n",
    "#    if epoch==39:        \n",
    "#        sch.step()        \n",
    "    training_loss_history.append(training_loss/(10000/batch_size))\n",
    "    validation_loss_history.append(validation_loss/(10000/batch_size))\n",
    "    print(\"[ Epoch: \",epoch+1,\" loss :\",training_loss/(10000/batch_size),\n",
    "          \" validation :\",validation_loss/(10000/batch_size),\"]\")\n",
    "    \n",
    "print(\"Time :\",time.time()-start)"
   ]
  },
  {
   "cell_type": "code",
   "execution_count": 54,
   "metadata": {},
   "outputs": [
    {
     "data": {
      "image/png": "[encoded data removed]",
      "text/plain": [
       "<Figure size 864x576 with 1 Axes>"
      ]
     },
     "metadata": {
      "needs_background": "light"
     },
     "output_type": "display_data"
    }
   ],
   "source": [
    "plt.figure(figsize=(12,8))\n",
    "plt.plot(training_loss_history)\n",
    "plt.plot(validation_loss_history)\n",
    "plt.title(\"Non-BatchNorm CNN Train-Validation plot CIFAR10\")\n",
    "plt.savefig(\"Non-BatchNorm CNN Train-Validation plot CIFAR10.png\")"
   ]
  },
  {
   "cell_type": "raw",
   "metadata": {},
   "source": [
    "sch.get_last_lr()"
   ]
  },
  {
   "cell_type": "raw",
   "metadata": {},
   "source": [
    "PATH=\"./cifar10_CNN.pth\"\n",
    "torch.save(myCnn.state_dict(),PATH)"
   ]
  },
  {
   "cell_type": "raw",
   "metadata": {},
   "source": [
    "myCnn=MyCNN().to(device)\n",
    "myCnn.load_state_dict(torch.load(PATH))"
   ]
  },
  {
   "cell_type": "code",
   "execution_count": 45,
   "metadata": {},
   "outputs": [],
   "source": [
    "myCnn=MyCNN().to(device)\n",
    "training_epochs=11\n",
    "batch_size=4\n",
    "obj=nn.CrossEntropyLoss().to(device)\n",
    "opt=SGD(myCnn.parameters(),lr=0.005, momentum=0.9)"
   ]
  },
  {
   "cell_type": "code",
   "execution_count": 46,
   "metadata": {},
   "outputs": [
    {
     "name": "stdout",
     "output_type": "stream",
     "text": [
      "Time : 175.61877417564392\n"
     ]
    }
   ],
   "source": [
    "start=time.time()\n",
    "\n",
    "for epoch in range(training_epochs):\n",
    "    training_loss=0.0\n",
    "    validation_loss=0.0\n",
    "    for X,y in tr10_loader:\n",
    "        X=X.to(device)\n",
    "        y=y.to(device)\n",
    "        \n",
    "        opt.zero_grad()\n",
    "        output=myCnn(X) \n",
    "        cost=obj(output,y)\n",
    "        cost.backward()\n",
    "        opt.step()\n",
    "        \n",
    "print(\"Time :\",time.time()-start)"
   ]
  },
  {
   "cell_type": "code",
   "execution_count": 47,
   "metadata": {},
   "outputs": [],
   "source": [
    "ts10_loader=DataLoader(dataset=ts10,\n",
    "                      batch_size=batch_size,\n",
    "                      shuffle=False)"
   ]
  },
  {
   "cell_type": "code",
   "execution_count": 48,
   "metadata": {},
   "outputs": [
    {
     "name": "stdout",
     "output_type": "stream",
     "text": [
      "Accuracy : 46.13\n",
      "Time : 7.410937070846558\n"
     ]
    }
   ],
   "source": [
    "start=time.time()\n",
    "\n",
    "correct = 0\n",
    "total = 0\n",
    "# since we're not training, we don't need to calculate the gradients for our outputs\n",
    "with torch.no_grad():\n",
    "    for data in ts10_loader:\n",
    "        images, labels = data[0].to(device), data[1].to(device)\n",
    "        # calculate outputs by running images through the network\n",
    "        outputs = myCnn(images)\n",
    "        # the class with the highest energy is what we choose as prediction\n",
    "        _, predicted = torch.max(outputs.data, 1)\n",
    "        total += labels.size(0)\n",
    "        correct += (predicted == labels).sum().item()\n",
    "\n",
    "print('Accuracy :',(100 * correct / total))\n",
    "print(\"Time :\",time.time()-start)"
   ]
  },
  {
   "cell_type": "code",
   "execution_count": 16,
   "metadata": {},
   "outputs": [
    {
     "name": "stdout",
     "output_type": "stream",
     "text": [
      "Files already downloaded and verified\n",
      "Files already downloaded and verified\n"
     ]
    }
   ],
   "source": [
    "ds100=CIFAR100(root=\"./data\",download=True,train=True,transform=transform)\n",
    "ts100=CIFAR100(root=\"./data\",download=True,train=False,transform=transform)\n",
    "tr100,vs100,_=random_split(ds100,[10000,10000,30000],torch.manual_seed(1))"
   ]
  },
  {
   "cell_type": "code",
   "execution_count": 17,
   "metadata": {},
   "outputs": [],
   "source": [
    "tr100_loader=DataLoader(dataset=tr100,\n",
    "                      batch_size=batch_size,\n",
    "                      shuffle=True,\n",
    "                      drop_last=True)\n",
    "\n",
    "vs100_loader=DataLoader(dataset=vs100,\n",
    "                      batch_size=batch_size,\n",
    "                      shuffle=False)"
   ]
  },
  {
   "cell_type": "code",
   "execution_count": 18,
   "metadata": {},
   "outputs": [],
   "source": [
    "class MyCNN(nn.Module):\n",
    "    def __init__(self):\n",
    "        super(MyCNN, self).__init__()\n",
    "        self.layer1 = nn.Sequential(\n",
    "            nn.Conv2d(in_channels=3,out_channels=6,kernel_size=5,stride=1),\n",
    "            nn.ReLU(),\n",
    "            nn.MaxPool2d(kernel_size=2, stride=2)\n",
    "            )\n",
    "        self.layer2 = nn.Sequential(\n",
    "            nn.Conv2d(in_channels=6,out_channels=16,kernel_size=5,stride=1),\n",
    "            nn.ReLU(),\n",
    "            nn.MaxPool2d(kernel_size=2, stride=2)\n",
    "            )\n",
    "        self.layer3 = nn.Sequential(\n",
    "            nn.Linear(16*5*5, 120),\n",
    "            nn.ReLU(),\n",
    "            nn.Linear(120,84),\n",
    "            nn.ReLU(),\n",
    "            nn.Linear(84,100),\n",
    "            )\n",
    "        \n",
    "    def forward(self,x):\n",
    "        out = self.layer1(x)\n",
    "        out = self.layer2(out)\n",
    "        #out = out.view(out.size(0),-1) #Flatten feature mapes to one-dimension vector\n",
    "        out = out.view(-1,16*5*5)\n",
    "        out = self.layer3(out)\n",
    "        return out\n"
   ]
  },
  {
   "cell_type": "code",
   "execution_count": 19,
   "metadata": {},
   "outputs": [],
   "source": [
    "myCnn=MyCNN().to(device)\n",
    "training_epochs=20\n",
    "batch_size=4\n",
    "obj=nn.CrossEntropyLoss().to(device)\n",
    "opt=SGD(myCnn.parameters(),lr=0.001, momentum=0.9)"
   ]
  },
  {
   "cell_type": "code",
   "execution_count": 20,
   "metadata": {},
   "outputs": [
    {
     "name": "stdout",
     "output_type": "stream",
     "text": [
      "[ Epoch:  1  loss : 4.596752449607849  validation : 4.538890958404541 ]\n",
      "[ Epoch:  2  loss : 4.391659169578552  validation : 4.253955417919159 ]\n",
      "[ Epoch:  3  loss : 4.0878373425483705  validation : 4.00558259563446 ]\n",
      "[ Epoch:  4  loss : 3.902721925401688  validation : 3.8720047008514404 ]\n",
      "[ Epoch:  5  loss : 3.7587737800598147  validation : 3.7927911390304567 ]\n",
      "[ Epoch:  6  loss : 3.6288220455646516  validation : 3.702908312320709 ]\n",
      "[ Epoch:  7  loss : 3.5203123766422273  validation : 3.6855640108585357 ]\n",
      "[ Epoch:  8  loss : 3.409345619916916  validation : 3.6297162858009338 ]\n",
      "[ Epoch:  9  loss : 3.305459507322311  validation : 3.6070420158147813 ]\n",
      "[ Epoch:  10  loss : 3.2082903704881667  validation : 3.6038468272209165 ]\n",
      "[ Epoch:  11  loss : 3.1166667951107025  validation : 3.6002278644800185 ]\n",
      "[ Epoch:  12  loss : 3.0223545835018157  validation : 3.6313780477166175 ]\n",
      "[ Epoch:  13  loss : 2.9361137279629705  validation : 3.7426437098979948 ]\n",
      "[ Epoch:  14  loss : 2.8519850018262862  validation : 3.6989213409662245 ]\n",
      "[ Epoch:  15  loss : 2.757151738858223  validation : 3.795326480960846 ]\n",
      "[ Epoch:  16  loss : 2.6711866635739803  validation : 3.7166014762401582 ]\n",
      "[ Epoch:  17  loss : 2.57213621571064  validation : 3.909575977253914 ]\n",
      "[ Epoch:  18  loss : 2.4922342278420926  validation : 4.012123626077175 ]\n",
      "[ Epoch:  19  loss : 2.4151549537420274  validation : 4.056133496785164 ]\n",
      "[ Epoch:  20  loss : 2.3469639643251896  validation : 4.04690394346714 ]\n",
      "Time : 229.52486777305603\n"
     ]
    }
   ],
   "source": [
    "start=time.time()\n",
    "\n",
    "training_loss_history_=[]\n",
    "validation_loss_history_=[]\n",
    "\n",
    "for epoch in range(training_epochs):\n",
    "    training_loss=0.0\n",
    "    validation_loss=0.0\n",
    "    for X,y in tr100_loader:\n",
    "        X=X.to(device)\n",
    "        y=y.to(device)\n",
    "        \n",
    "        opt.zero_grad()\n",
    "        output=myCnn(X) \n",
    "        cost=obj(output,y)\n",
    "        cost.backward()\n",
    "        opt.step()\n",
    "        \n",
    "        training_loss+=cost.item()\n",
    "        \n",
    "    with torch.no_grad():\n",
    "        for X,y in vs100_loader:\n",
    "            X=X.to(device)\n",
    "            y=y.to(device)\n",
    "            \n",
    "            output=myCnn(X)\n",
    "            cost=obj(output,y)\n",
    "            \n",
    "            validation_loss+=cost.item()\n",
    "            \n",
    "#    if epoch==39:        \n",
    "#        sch.step()        \n",
    "    training_loss_history_.append(training_loss/(10000/batch_size))\n",
    "    validation_loss_history_.append(validation_loss/(10000/batch_size))\n",
    "    print(\"[ Epoch: \",epoch+1,\" loss :\",training_loss/(10000/batch_size),\" validation :\",validation_loss/(10000/batch_size),\"]\")\n",
    "    \n",
    "print(\"Time :\",time.time()-start)"
   ]
  },
  {
   "cell_type": "code",
   "execution_count": 21,
   "metadata": {},
   "outputs": [
    {
     "data": {
      "image/png": "[encoded data removed]",
      "text/plain": [
       "<Figure size 864x576 with 1 Axes>"
      ]
     },
     "metadata": {
      "needs_background": "light"
     },
     "output_type": "display_data"
    }
   ],
   "source": [
    "plt.figure(figsize=(12,8))\n",
    "plt.plot(training_loss_history_)\n",
    "plt.plot(validation_loss_history_)\n",
    "plt.title(\"CNN Train-Validation plot CIFAR100\")\n",
    "plt.savefig(\"CNN Train-Validation plot CIFAR100.png\")"
   ]
  },
  {
   "cell_type": "code",
   "execution_count": 22,
   "metadata": {},
   "outputs": [],
   "source": [
    "myCnn=MyCNN().to(device)\n",
    "training_epochs=11\n",
    "batch_size=4\n",
    "obj=nn.CrossEntropyLoss().to(device)\n",
    "opt=SGD(myCnn.parameters(),lr=0.001, momentum=0.9)"
   ]
  },
  {
   "cell_type": "code",
   "execution_count": 26,
   "metadata": {},
   "outputs": [
    {
     "name": "stdout",
     "output_type": "stream",
     "text": [
      "Time : 80.64506006240845\n"
     ]
    }
   ],
   "source": [
    "start=time.time()\n",
    "\n",
    "for epoch in range(training_epochs):\n",
    "    training_loss=0.0\n",
    "    validation_loss=0.0\n",
    "    for X,y in tr100_loader:\n",
    "        X=X.to(device)\n",
    "        y=y.to(device)\n",
    "        \n",
    "        opt.zero_grad()\n",
    "        output=myCnn(X) \n",
    "        cost=obj(output,y)\n",
    "        cost.backward()\n",
    "        opt.step()\n",
    "        \n",
    "print(\"Time :\",time.time()-start)"
   ]
  },
  {
   "cell_type": "code",
   "execution_count": 27,
   "metadata": {},
   "outputs": [],
   "source": [
    "ts100_loader=DataLoader(dataset=ts100,\n",
    "                      batch_size=batch_size,\n",
    "                      shuffle=False)"
   ]
  },
  {
   "cell_type": "code",
   "execution_count": 28,
   "metadata": {},
   "outputs": [
    {
     "name": "stdout",
     "output_type": "stream",
     "text": [
      "Accuracy : 16.85\n",
      "Time : 4.014480113983154\n"
     ]
    }
   ],
   "source": [
    "start=time.time()\n",
    "\n",
    "correct = 0\n",
    "total = 0\n",
    "# since we're not training, we don't need to calculate the gradients for our outputs\n",
    "with torch.no_grad():\n",
    "    for data in ts100_loader:\n",
    "        images, labels = data[0].to(device), data[1].to(device)\n",
    "        # calculate outputs by running images through the network\n",
    "        outputs = myCnn(images)\n",
    "        # the class with the highest energy is what we choose as prediction\n",
    "        _, predicted = torch.max(outputs.data, 1)\n",
    "        total += labels.size(0)\n",
    "        correct += (predicted == labels).sum().item()\n",
    "\n",
    "print('Accuracy :',(100 * correct / total))\n",
    "print(\"Time :\",time.time()-start)"
   ]
  }
 ],
 "metadata": {
  "kernelspec": {
   "display_name": "Python 3",
   "language": "python",
   "name": "python3"
  },
  "language_info": {
   "codemirror_mode": {
    "name": "ipython",
    "version": 3
   },
   "file_extension": ".py",
   "mimetype": "text/x-python",
   "name": "python",
   "nbconvert_exporter": "python",
   "pygments_lexer": "ipython3",
   "version": "3.7.10"
  }
 },
 "nbformat": 4,
 "nbformat_minor": 4
}
