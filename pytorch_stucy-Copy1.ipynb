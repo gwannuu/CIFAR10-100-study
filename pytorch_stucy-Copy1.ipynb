{
 "cells": [
  {
   "cell_type": "code",
   "execution_count": 38,
   "metadata": {},
   "outputs": [],
   "source": [
    "import torch\n",
    "import torchvision\n",
    "import numpy as np\n",
    "import matplotlib.pyplot as plt\n",
    "import torch.nn as nn\n",
    "import torch.nn.functional as F\n",
    "from torchvision.datasets import CIFAR10,CIFAR100\n",
    "import torchvision.transforms as transforms\n",
    "from torchvision.transforms import ToTensor,Normalize\n",
    "from torchvision.utils import make_grid\n",
    "from torch.utils.data.dataloader import DataLoader\n",
    "from torch.utils.data import random_split\n",
    "%matplotlib inline"
   ]
  },
  {
   "cell_type": "code",
   "execution_count": 39,
   "metadata": {},
   "outputs": [
    {
     "name": "stdout",
     "output_type": "stream",
     "text": [
      "Using cuda device\n"
     ]
    }
   ],
   "source": [
    "device = \"cuda\" if torch.cuda.is_available() else \"cpu\"\n",
    "print(\"Using {} device\".format(device))"
   ]
  },
  {
   "cell_type": "code",
   "execution_count": 40,
   "metadata": {},
   "outputs": [],
   "source": [
    "transform = transforms.Compose(\n",
    "    [transforms.ToTensor(),\n",
    "     transforms.Normalize((0.5, 0.5, 0.5), (0.5, 0.5, 0.5))])"
   ]
  },
  {
   "cell_type": "code",
   "execution_count": 41,
   "metadata": {},
   "outputs": [
    {
     "name": "stdout",
     "output_type": "stream",
     "text": [
      "Files already downloaded and verified\n",
      "Files already downloaded and verified\n",
      "Files already downloaded and verified\n",
      "Files already downloaded and verified\n"
     ]
    }
   ],
   "source": [
    "dataset_10 = CIFAR10(root='./data', download=True, train=True, transform=transform)\n",
    "test_dataset_10 = CIFAR10(root='./data', download=True, train=False, transform=transform)\n",
    "dataset_100 = CIFAR100(root='./data', download=True, train=True, transform=transform)\n",
    "test_dataset_100 = CIFAR100(root='./data', download=True, train=False, transform=transform)"
   ]
  },
  {
   "cell_type": "code",
   "execution_count": 42,
   "metadata": {},
   "outputs": [
    {
     "data": {
      "text/plain": [
       "['airplane',\n",
       " 'automobile',\n",
       " 'bird',\n",
       " 'cat',\n",
       " 'deer',\n",
       " 'dog',\n",
       " 'frog',\n",
       " 'horse',\n",
       " 'ship',\n",
       " 'truck']"
      ]
     },
     "execution_count": 42,
     "metadata": {},
     "output_type": "execute_result"
    }
   ],
   "source": [
    "classes_10=dataset_10.classes\n",
    "classes_10"
   ]
  },
  {
   "cell_type": "code",
   "execution_count": 43,
   "metadata": {},
   "outputs": [
    {
     "data": {
      "text/plain": [
       "'airplane'"
      ]
     },
     "execution_count": 43,
     "metadata": {},
     "output_type": "execute_result"
    }
   ],
   "source": [
    "classes_10[0]"
   ]
  },
  {
   "cell_type": "code",
   "execution_count": 44,
   "metadata": {},
   "outputs": [
    {
     "data": {
      "text/plain": [
       "<torch._C.Generator at 0x7f76e008adf0>"
      ]
     },
     "execution_count": 44,
     "metadata": {},
     "output_type": "execute_result"
    }
   ],
   "source": [
    "torch.manual_seed(1)"
   ]
  },
  {
   "cell_type": "code",
   "execution_count": 45,
   "metadata": {},
   "outputs": [],
   "source": [
    "val_size=10000\n",
    "train_size=10000\n",
    "empty_size=30000"
   ]
  },
  {
   "cell_type": "code",
   "execution_count": 46,
   "metadata": {},
   "outputs": [
    {
     "data": {
      "text/plain": [
       "(10000, 10000)"
      ]
     },
     "execution_count": 46,
     "metadata": {},
     "output_type": "execute_result"
    }
   ],
   "source": [
    "train_ds_10, val_ds_10, empty_ds_10 = random_split(dataset_10, [train_size, val_size,empty_size])\n",
    "len(train_ds_10), len(val_ds_10)"
   ]
  },
  {
   "cell_type": "code",
   "execution_count": 47,
   "metadata": {},
   "outputs": [
    {
     "data": {
      "text/plain": [
       "torch.utils.data.dataset.Subset"
      ]
     },
     "execution_count": 47,
     "metadata": {},
     "output_type": "execute_result"
    }
   ],
   "source": [
    "type(train_ds_10)"
   ]
  },
  {
   "cell_type": "code",
   "execution_count": 48,
   "metadata": {},
   "outputs": [],
   "source": [
    "#train_ds_10.__getitem__(10)\n",
    "#train_ds_10[10]"
   ]
  },
  {
   "cell_type": "code",
   "execution_count": 51,
   "metadata": {},
   "outputs": [
    {
     "data": {
      "text/plain": [
       "tensor([[[-0.2941, -0.2784, -0.2784,  ..., -0.2549, -0.2549, -0.2549],\n",
       "         [-0.2627, -0.2549, -0.2627,  ..., -0.2392, -0.2392, -0.2392],\n",
       "         [-0.2471, -0.2314, -0.2392,  ..., -0.2157, -0.2157, -0.2157],\n",
       "         ...,\n",
       "         [-0.1765, -0.1608, -0.1686,  ..., -0.3961, -0.1686, -0.1137],\n",
       "         [-0.0902, -0.0745, -0.0745,  ...,  0.3333,  0.3333,  0.3333],\n",
       "         [ 0.3569,  0.3961,  0.3961,  ...,  0.4196,  0.4039,  0.4039]],\n",
       "\n",
       "        [[ 0.1765,  0.1922,  0.1843,  ...,  0.2000,  0.2078,  0.2000],\n",
       "         [ 0.1843,  0.2000,  0.1922,  ...,  0.2157,  0.2157,  0.2078],\n",
       "         [ 0.2078,  0.2314,  0.2235,  ...,  0.2392,  0.2392,  0.2392],\n",
       "         ...,\n",
       "         [-0.1765, -0.1686, -0.1686,  ..., -0.3882, -0.1686, -0.1137],\n",
       "         [-0.0902, -0.0745, -0.0745,  ...,  0.2235,  0.2078,  0.2157],\n",
       "         [ 0.1294,  0.1529,  0.1451,  ...,  0.1059,  0.0902,  0.0824]],\n",
       "\n",
       "        [[ 0.5529,  0.5765,  0.5608,  ...,  0.5608,  0.5686,  0.5686],\n",
       "         [ 0.5529,  0.5765,  0.5608,  ...,  0.5686,  0.5686,  0.5686],\n",
       "         [ 0.5608,  0.5765,  0.5686,  ...,  0.5765,  0.5765,  0.5765],\n",
       "         ...,\n",
       "         [-0.2627, -0.2549, -0.2549,  ..., -0.4588, -0.2627, -0.2078],\n",
       "         [-0.1922, -0.1843, -0.1843,  ..., -0.0118, -0.0353, -0.0353],\n",
       "         [-0.1922, -0.1843, -0.1922,  ..., -0.3490, -0.3804, -0.3961]]])"
      ]
     },
     "execution_count": 51,
     "metadata": {},
     "output_type": "execute_result"
    }
   ],
   "source": [
    "train_ds_10[1][0]"
   ]
  },
  {
   "cell_type": "code",
   "execution_count": 53,
   "metadata": {},
   "outputs": [
    {
     "name": "stderr",
     "output_type": "stream",
     "text": [
      "Clipping input data to the valid range for imshow with RGB data ([0..1] for floats or [0..255] for integers).\n"
     ]
    },
    {
     "data": {
      "text/plain": [
       "<matplotlib.image.AxesImage at 0x7f75c5a95e50>"
      ]
     },
     "execution_count": 53,
     "metadata": {},
     "output_type": "execute_result"
    },
    {
     "data": {
      "image/png": "[encoded data removed]",
      "text/plain": [
       "<Figure size 432x288 with 1 Axes>"
      ]
     },
     "metadata": {
      "needs_background": "light"
     },
     "output_type": "display_data"
    }
   ],
   "source": [
    "plt.imshow(np.transpose(train_ds_10[1][0],(1,2,0)))"
   ]
  },
  {
   "cell_type": "code",
   "execution_count": 139,
   "metadata": {},
   "outputs": [
    {
     "name": "stdout",
     "output_type": "stream",
     "text": [
      "Files already downloaded and verified\n"
     ]
    }
   ],
   "source": [
    "dataset_10_ = CIFAR10(root='data/', download=True, transform=[ToTensor(),Normalize((0.5,0.5,0.5),(0.5,0.5,0.5))])"
   ]
  },
  {
   "cell_type": "code",
   "execution_count": 140,
   "metadata": {},
   "outputs": [
    {
     "data": {
      "text/plain": [
       "<torch._C.Generator at 0x7f25c00d8dd0>"
      ]
     },
     "execution_count": 140,
     "metadata": {},
     "output_type": "execute_result"
    }
   ],
   "source": [
    "torch.manual_seed(1)"
   ]
  },
  {
   "cell_type": "code",
   "execution_count": 141,
   "metadata": {},
   "outputs": [
    {
     "data": {
      "text/plain": [
       "(10000, 10000)"
      ]
     },
     "execution_count": 141,
     "metadata": {},
     "output_type": "execute_result"
    }
   ],
   "source": [
    "train_ds_10_, val_ds_10_, empty_ds_10_ = random_split(dataset_10_, [train_size, val_size,empty_size])\n",
    "len(train_ds_10_), len(val_ds_10_)"
   ]
  },
  {
   "cell_type": "code",
   "execution_count": 146,
   "metadata": {},
   "outputs": [
    {
     "data": {
      "text/plain": [
       "<torch.utils.data.dataset.Subset at 0x7f24a0161fa0>"
      ]
     },
     "execution_count": 146,
     "metadata": {},
     "output_type": "execute_result"
    }
   ],
   "source": [
    "train_ds_10_"
   ]
  },
  {
   "cell_type": "code",
   "execution_count": null,
   "metadata": {},
   "outputs": [],
   "source": [
    "plt.imshow(np.transpose(train_ds_10_[0][0],(1,2,0)))"
   ]
  }
 ],
 "metadata": {
  "kernelspec": {
   "display_name": "Python 3",
   "language": "python",
   "name": "python3"
  },
  "language_info": {
   "codemirror_mode": {
    "name": "ipython",
    "version": 3
   },
   "file_extension": ".py",
   "mimetype": "text/x-python",
   "name": "python",
   "nbconvert_exporter": "python",
   "pygments_lexer": "ipython3",
   "version": "3.8.5"
  }
 },
 "nbformat": 4,
 "nbformat_minor": 4
}
