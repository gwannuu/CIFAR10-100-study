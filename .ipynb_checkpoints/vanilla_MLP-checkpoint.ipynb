{
 "cells": [
  {
   "cell_type": "code",
   "execution_count": 3,
   "id": "1a6b8e4b-17f8-40eb-b31f-8c79f19bf2cb",
   "metadata": {},
   "outputs": [],
   "source": [
    "\n",
    "\n",
    "import torch\n",
    "import torch.nn as nn\n",
    "from torch.optim import Adam,SGD\n",
    "\n",
    "from torch.utils.data import random_split, DataLoader\n",
    "\n",
    "import torchvision\n",
    "from torchvision.datasets import CIFAR10,CIFAR100\n",
    "import torchvision.transforms as transforms\n",
    "from torchvision.transforms import ToTensor,Normalize\n"
   ]
  },
  {
   "cell_type": "code",
   "execution_count": 4,
   "id": "bcfeb998-7b0e-4c0f-8c36-00726460f7f1",
   "metadata": {},
   "outputs": [
    {
     "name": "stdout",
     "output_type": "stream",
     "text": [
      "cuda\n",
      "0\n",
      "1\n",
      "GeForce RTX 3090\n",
      "<torch.cuda.device object at 0x0000022A9EC55108>\n"
     ]
    }
   ],
   "source": [
    "device = 'cuda' if torch.cuda.is_available() else 'cpu'\n",
    "print(device)\n",
    "print(torch.cuda.current_device())\n",
    "print(torch.cuda.device_count())\n",
    "print(torch.cuda.get_device_name(0))\n",
    "print(torch.cuda.device(0))"
   ]
  },
  {
   "cell_type": "code",
   "execution_count": 5,
   "id": "e8ec1787-1c99-4239-bbc6-13eb058c8151",
   "metadata": {},
   "outputs": [
    {
     "name": "stdout",
     "output_type": "stream",
     "text": [
      "True\n",
      "학습을 진행하는 기기: cuda:0\n"
     ]
    }
   ],
   "source": [
    "USE_CUDA = torch.cuda.is_available()\n",
    "print(USE_CUDA)\n",
    "\n",
    "device = torch.device('cuda:0' if USE_CUDA else 'cpu')\n",
    "print('학습을 진행하는 기기:',device)"
   ]
  },
  {
   "cell_type": "code",
   "execution_count": 7,
   "id": "4e7677a3-f16b-4099-8525-194c54069041",
   "metadata": {},
   "outputs": [],
   "source": [
    "transform = transforms.Compose(\n",
    "    [transforms.ToTensor(),\n",
    "     transforms.Normalize((0.5, 0.5, 0.5), (0.5, 0.5, 0.5))])"
   ]
  },
  {
   "cell_type": "code",
   "execution_count": 8,
   "id": "52819469-3d81-40b9-bd56-d6b3c85b9a37",
   "metadata": {},
   "outputs": [
    {
     "name": "stdout",
     "output_type": "stream",
     "text": [
      "Files already downloaded and verified\n",
      "Files already downloaded and verified\n"
     ]
    }
   ],
   "source": [
    "ds10=CIFAR10(root=\"./data\",download=True,train=True,transform=transform)\n",
    "ts10=CIFAR10(root=\"./data\",download=True,train=False,transform=transform)"
   ]
  },
  {
   "cell_type": "code",
   "execution_count": 10,
   "id": "b3a0ca8f-a753-4d11-8b48-47493ce5c752",
   "metadata": {},
   "outputs": [],
   "source": [
    "tr10,vs10,_=random_split(ds10,[10000,10000,30000],torch.manual_seed(1))"
   ]
  },
  {
   "cell_type": "code",
   "execution_count": 12,
   "id": "a8210771-bed4-4d66-99c1-019b00a4b749",
   "metadata": {},
   "outputs": [
    {
     "data": {
      "text/plain": [
       "(tensor([[[-0.3020, -0.3098, -0.3176,  ..., -0.1137, -0.1294, -0.1373],\n",
       "          [-0.2784, -0.2863, -0.2941,  ..., -0.0667, -0.0902, -0.0902],\n",
       "          [-0.2627, -0.2784, -0.2863,  ..., -0.0353, -0.0510, -0.0353],\n",
       "          ...,\n",
       "          [ 0.8510,  0.7176,  0.2941,  ..., -0.2863, -0.3020, -0.3020],\n",
       "          [ 0.9765,  0.8667,  0.7804,  ...,  0.5686,  0.6941,  0.6784],\n",
       "          [ 1.0000,  0.9843,  1.0000,  ...,  0.7804,  1.0000,  1.0000]],\n",
       " \n",
       "         [[-0.0431, -0.0510, -0.0431,  ...,  0.1294,  0.1216,  0.1294],\n",
       "          [-0.0275, -0.0196, -0.0118,  ...,  0.1843,  0.1608,  0.1765],\n",
       "          [ 0.0039,  0.0039,  0.0118,  ...,  0.2392,  0.2235,  0.2235],\n",
       "          ...,\n",
       "          [ 0.8510,  0.7333,  0.3569,  ..., -0.2392, -0.2549, -0.2549],\n",
       "          [ 0.9765,  0.8745,  0.7961,  ...,  0.5765,  0.7020,  0.6863],\n",
       "          [ 1.0000,  0.9922,  1.0000,  ...,  0.7804,  1.0000,  1.0000]],\n",
       " \n",
       "         [[ 0.4039,  0.3882,  0.3961,  ...,  0.5137,  0.5059,  0.5059],\n",
       "          [ 0.4275,  0.4196,  0.4196,  ...,  0.5686,  0.5451,  0.5529],\n",
       "          [ 0.4510,  0.4431,  0.4431,  ...,  0.5922,  0.5843,  0.5843],\n",
       "          ...,\n",
       "          [ 0.8118,  0.7176,  0.4510,  ..., -0.0745, -0.0980, -0.1216],\n",
       "          [ 0.9373,  0.8667,  0.8196,  ...,  0.6078,  0.7255,  0.7176],\n",
       "          [ 1.0000,  0.9686,  0.9843,  ...,  0.7569,  0.9843,  0.9922]]]),\n",
       " 0)"
      ]
     },
     "execution_count": 12,
     "metadata": {},
     "output_type": "execute_result"
    }
   ],
   "source": [
    "tr10[0]"
   ]
  },
  {
   "cell_type": "code",
   "execution_count": 13,
   "id": "f0f7793e-10d4-4e98-bd7d-95c2dcb9653f",
   "metadata": {},
   "outputs": [
    {
     "name": "stdout",
     "output_type": "stream",
     "text": [
      "{0: 1010, 1: 1011, 6: 978, 3: 1002, 4: 1011, 8: 1048, 7: 998, 2: 999, 5: 982, 9: 961}\n"
     ]
    }
   ],
   "source": [
    "class_count={}\n",
    "for i in tr10:\n",
    "    if i[1] not in class_count:\n",
    "        class_count[i[1]]=0\n",
    "    class_count[i[1]]+=1\n",
    "print(class_count)"
   ]
  },
  {
   "cell_type": "code",
   "execution_count": 36,
   "id": "11f4ef87-2a54-4bf1-b531-a0c898bc1fac",
   "metadata": {},
   "outputs": [],
   "source": [
    "class MyMLP(nn.Module):\n",
    "    def __init__(self):\n",
    "        super(MyMLP, self).__init__()\n",
    "        self.layer = nn.Sequential(\n",
    "            nn.Linear(in_features=3*32*32,out_features=512),\n",
    "            nn.ReLU(),\n",
    "            nn.Linear(in_features=512,out_features=512),\n",
    "            nn.ReLU(),\n",
    "            nn.Linear(in_features=512,out_features=64),\n",
    "            nn.ReLU(),\n",
    "            nn.Linear(in_features=64,out_features=64),\n",
    "            nn.ReLU(),\n",
    "            nn.Linear(in_features=64,out_features=10)\n",
    "            )\n",
    "        \n",
    "    def forward(self,in_):\n",
    "        in_=self.layer(in_)\n",
    "        return in_\n",
    "\n",
    "mlp=MyMLP().to(device)"
   ]
  },
  {
   "cell_type": "code",
   "execution_count": 31,
   "id": "e3bace43-4304-4880-a8b4-3e53b6feb80c",
   "metadata": {},
   "outputs": [],
   "source": [
    "learning_rate=5e-4\n",
    "training_epochs=75\n",
    "batch_size=50"
   ]
  },
  {
   "cell_type": "code",
   "execution_count": 32,
   "id": "0c770dc6-8b76-496c-b9aa-8f6ac7e381ff",
   "metadata": {},
   "outputs": [],
   "source": [
    "obj=nn.CrossEntropyLoss().to(device)\n",
    "opt=Adam(mlp.parameters(),lr=0.001)"
   ]
  },
  {
   "cell_type": "code",
   "execution_count": 33,
   "id": "c515c0f5-c3f0-4870-b4c9-9e3460f3471e",
   "metadata": {},
   "outputs": [],
   "source": [
    "tr10_loader=DataLoader(dataset=tr10,\n",
    "                      batch_size=batch_size,\n",
    "                      shuffle=True,\n",
    "                      drop_last=True)\n",
    "\n",
    "vs10_loader=DataLoader(dataset=tr10,\n",
    "                      batch_size=batch_size,\n",
    "                      shuffle=False)"
   ]
  },
  {
   "cell_type": "code",
   "execution_count": null,
   "id": "04e953c7-137c-4dc8-983b-f0e345599c4a",
   "metadata": {},
   "outputs": [
    {
     "name": "stdout",
     "output_type": "stream",
     "text": [
      "[ Epoch:  0  loss : 9.221048936843872  validation : 9.221048932075506 ]\n",
      "[ Epoch:  1  loss : 9.22104895591736  validation : 9.221048932075506 ]\n",
      "[ Epoch:  2  loss : 9.221048893928534  validation : 9.221048932075506 ]\n",
      "[ Epoch:  3  loss : 9.221048855781554  validation : 9.221048932075506 ]\n",
      "[ Epoch:  4  loss : 9.221048913002015  validation : 9.221048932075506 ]\n"
     ]
    }
   ],
   "source": [
    "training_loss_history=[]\n",
    "validation_loss_history=[]\n",
    "\n",
    "for epoch in range(training_epochs):\n",
    "    #mlp.train()\n",
    "    training_loss=0.0\n",
    "    validation_loss=0.0\n",
    "    for X,y in tr10_loader:\n",
    "        X=X.to(device)\n",
    "        y=y.to(device)\n",
    "        X=X.view(-1,3*32*32)\n",
    "        opt.zero_grad()\n",
    "        output=mlp(X) \n",
    "        cost=obj(output,y)\n",
    "        cost.backward()\n",
    "        opt.step()\n",
    "        \n",
    "        training_loss+=cost.item()/batch_size\n",
    "        \n",
    "    with torch.no_grad():\n",
    "        #mlp.eval()\n",
    "        for X,y in vs10_loader:\n",
    "            X=X.to(device)\n",
    "            y=y.to(device)\n",
    "            X=X.view(-1,3*32*32)\n",
    "            output=mlp(X)\n",
    "            cost=obj(output,y)\n",
    "            \n",
    "            validation_loss+=cost.item()/batch_size\n",
    "            \n",
    "    #if epoch==39:        \n",
    "    #    sch.step()        \n",
    "    training_loss_history.append(training_loss)\n",
    "    validation_loss_history.append(validation_loss)\n",
    "    print(\"[ Epoch: \",epoch+1,\" loss :\",training_loss,\" validation :\",validation_loss,\"]\")"
   ]
  },
  {
   "cell_type": "code",
   "execution_count": null,
   "id": "adb8d152-df8a-44be-8221-a92f2df60a74",
   "metadata": {},
   "outputs": [],
   "source": []
  }
 ],
 "metadata": {
  "kernelspec": {
   "display_name": "Python 3",
   "language": "python",
   "name": "python3"
  },
  "language_info": {
   "codemirror_mode": {
    "name": "ipython",
    "version": 3
   },
   "file_extension": ".py",
   "mimetype": "text/x-python",
   "name": "python",
   "nbconvert_exporter": "python",
   "pygments_lexer": "ipython3",
   "version": "3.7.10"
  }
 },
 "nbformat": 4,
 "nbformat_minor": 5
}
