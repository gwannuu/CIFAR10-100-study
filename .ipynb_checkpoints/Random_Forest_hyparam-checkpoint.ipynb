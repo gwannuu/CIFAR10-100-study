{
 "cells": [
  {
   "cell_type": "code",
   "execution_count": 1,
   "metadata": {},
   "outputs": [],
   "source": [
    "import sklearn\n",
    "from sklearn.ensemble import RandomForestClassifier\n",
    "from sklearn.model_selection import train_test_split\n",
    "\n",
    "import time\n",
    "import pandas as pd\n",
    "import numpy as np\n",
    "\n",
    "import torch\n",
    "from torchvision.datasets import CIFAR10,CIFAR100\n",
    "import torchvision.transforms as transforms\n",
    "from torchvision.transforms import ToTensor,Normalize"
   ]
  },
  {
   "cell_type": "code",
   "execution_count": 2,
   "metadata": {},
   "outputs": [],
   "source": [
    "transform = transforms.Compose(\n",
    "    [transforms.ToTensor(),\n",
    "     transforms.Normalize((0.5, 0.5, 0.5), (0.5, 0.5, 0.5))])"
   ]
  },
  {
   "cell_type": "code",
   "execution_count": 3,
   "metadata": {},
   "outputs": [],
   "source": [
    "ds10=CIFAR10(root=\"data\",transform=transform)\n",
    "ts10=CIFAR10(root=\"data\",train=False,transform=transform)"
   ]
  },
  {
   "cell_type": "code",
   "execution_count": 4,
   "metadata": {},
   "outputs": [],
   "source": [
    "X=[]\n",
    "y=[]\n",
    "for i in ds10:\n",
    "    X.append(np.array(torch.flatten(i[0])))\n",
    "    y.append(i[1])\n",
    "    \n",
    "X_te=[]\n",
    "y_te=[]\n",
    "for i in ts10:\n",
    "    X_te.append(np.array(torch.flatten(i[0])))\n",
    "    y_te.append(i[1])"
   ]
  },
  {
   "cell_type": "code",
   "execution_count": 5,
   "metadata": {},
   "outputs": [],
   "source": [
    "X_, X_vs, y_, y_vs = train_test_split(X,y,test_size=0.2, random_state=1, stratify=y)"
   ]
  },
  {
   "cell_type": "code",
   "execution_count": 6,
   "metadata": {},
   "outputs": [],
   "source": [
    "X_tr,X_,y_tr,y_ = train_test_split(X_,y_,test_size=0.75, random_state=1, stratify=y_)"
   ]
  },
  {
   "cell_type": "code",
   "execution_count": 7,
   "metadata": {},
   "outputs": [
    {
     "name": "stdout",
     "output_type": "stream",
     "text": [
      "Time : 35.35946869850159\n"
     ]
    }
   ],
   "source": [
    "RF=RandomForestClassifier()\n",
    "start=time.time()\n",
    "RF.fit(X_tr,y_tr)\n",
    "print(\"Time :\",time.time()-start)"
   ]
  },
  {
   "cell_type": "code",
   "execution_count": 8,
   "metadata": {},
   "outputs": [
    {
     "name": "stdout",
     "output_type": "stream",
     "text": [
      "Time : 0.6281771659851074\n"
     ]
    }
   ],
   "source": [
    "start=time.time()\n",
    "pred=RF.predict(X_te)\n",
    "print(\"Time :\",time.time()-start)"
   ]
  },
  {
   "cell_type": "code",
   "execution_count": 9,
   "metadata": {},
   "outputs": [
    {
     "name": "stdout",
     "output_type": "stream",
     "text": [
      "Accuracy : 42.78\n"
     ]
    }
   ],
   "source": [
    "correct=0\n",
    "for i in range(len(y_te)):\n",
    "    if pred[i]==y_te[i]:\n",
    "        correct+=1\n",
    "print(\"Accuracy :\",correct*100/10000)"
   ]
  },
  {
   "cell_type": "code",
   "execution_count": 10,
   "metadata": {},
   "outputs": [],
   "source": [
    "ds100=CIFAR100(root=\"data\",transform=transform)\n",
    "ts100=CIFAR100(root=\"data\",train=False,transform=transform)"
   ]
  },
  {
   "cell_type": "code",
   "execution_count": 11,
   "metadata": {},
   "outputs": [],
   "source": [
    "X1=[]\n",
    "y1=[]\n",
    "for i in ds100:\n",
    "    X1.append(np.array(torch.flatten(i[0])))\n",
    "    y1.append(i[1])\n",
    "    \n",
    "X1_te=[]\n",
    "y1_te=[]\n",
    "for i in ts100:\n",
    "    X1_te.append(np.array(torch.flatten(i[0])))\n",
    "    y1_te.append(i[1])"
   ]
  },
  {
   "cell_type": "code",
   "execution_count": 12,
   "metadata": {},
   "outputs": [],
   "source": [
    "X1_, X1_vs, y1_, y1_vs = train_test_split(X1,y1,test_size=0.2, random_state=1, stratify=y1)"
   ]
  },
  {
   "cell_type": "code",
   "execution_count": 13,
   "metadata": {},
   "outputs": [],
   "source": [
    "X1_tr,X1_,y1_tr,y1_ = train_test_split(X1_,y1_,test_size=0.75, random_state=1, stratify=y1_)"
   ]
  },
  {
   "cell_type": "code",
   "execution_count": 14,
   "metadata": {},
   "outputs": [
    {
     "name": "stdout",
     "output_type": "stream",
     "text": [
      "Time : 109.56295251846313\n"
     ]
    }
   ],
   "source": [
    "RF=RandomForestClassifier()\n",
    "start=time.time()\n",
    "RF.fit(X1_tr,y1_tr)\n",
    "print(\"Time :\",time.time()-start)"
   ]
  },
  {
   "cell_type": "code",
   "execution_count": 15,
   "metadata": {},
   "outputs": [
    {
     "name": "stdout",
     "output_type": "stream",
     "text": [
      "Time : 1.5033986568450928\n"
     ]
    }
   ],
   "source": [
    "start=time.time()\n",
    "pred=RF.predict(X1_te)\n",
    "print(\"Time :\",time.time()-start)"
   ]
  },
  {
   "cell_type": "code",
   "execution_count": 16,
   "metadata": {},
   "outputs": [
    {
     "name": "stdout",
     "output_type": "stream",
     "text": [
      "Accuracy : 16.19\n"
     ]
    }
   ],
   "source": [
    "correct=0\n",
    "for i in range(len(y1_te)):\n",
    "    if pred[i]==y1_te[i]:\n",
    "        correct+=1\n",
    "print(\"Accuracy :\",correct*100/10000)"
   ]
  },
  {
   "cell_type": "code",
   "execution_count": null,
   "metadata": {},
   "outputs": [],
   "source": []
  }
 ],
 "metadata": {
  "kernelspec": {
   "display_name": "Python 3",
   "language": "python",
   "name": "python3"
  },
  "language_info": {
   "codemirror_mode": {
    "name": "ipython",
    "version": 3
   },
   "file_extension": ".py",
   "mimetype": "text/x-python",
   "name": "python",
   "nbconvert_exporter": "python",
   "pygments_lexer": "ipython3",
   "version": "3.7.10"
  }
 },
 "nbformat": 4,
 "nbformat_minor": 4
}
